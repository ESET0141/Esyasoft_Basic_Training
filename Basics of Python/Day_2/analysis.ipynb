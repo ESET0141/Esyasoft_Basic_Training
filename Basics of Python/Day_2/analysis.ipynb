{
 "cells": [
  {
   "cell_type": "markdown",
   "id": "b60d6b54",
   "metadata": {},
   "source": [
    "for documentation\n",
    "Markdown is used..."
   ]
  },
  {
   "cell_type": "code",
   "execution_count": 1,
   "id": "fd37132e",
   "metadata": {},
   "outputs": [
    {
     "name": "stdout",
     "output_type": "stream",
     "text": [
      "Hello World\n"
     ]
    }
   ],
   "source": [
    "print(\"Hello World\")"
   ]
  },
  {
   "cell_type": "markdown",
   "id": "e425e5d7",
   "metadata": {},
   "source": [
    "Printed hello World using a very versetile language known as python!!!"
   ]
  },
  {
   "cell_type": "code",
   "execution_count": null,
   "id": "ae25543f",
   "metadata": {},
   "outputs": [],
   "source": [
    "a= int(input(\"Enter num\"))\n",
    "b = int(input(\"Enter num2\"))"
   ]
  },
  {
   "cell_type": "code",
   "execution_count": 3,
   "id": "5ed9c78f",
   "metadata": {},
   "outputs": [
    {
     "name": "stdout",
     "output_type": "stream",
     "text": [
      "14\n"
     ]
    }
   ],
   "source": [
    "def sum(a,b):\n",
    "    sum = a+b\n",
    "    return sum\n",
    "\n",
    "d = sum(9,5)\n",
    "print(d)"
   ]
  },
  {
   "cell_type": "code",
   "execution_count": null,
   "id": "45edc711",
   "metadata": {},
   "outputs": [],
   "source": []
  }
 ],
 "metadata": {
  "kernelspec": {
   "display_name": "Python 3",
   "language": "python",
   "name": "python3"
  },
  "language_info": {
   "codemirror_mode": {
    "name": "ipython",
    "version": 3
   },
   "file_extension": ".py",
   "mimetype": "text/x-python",
   "name": "python",
   "nbconvert_exporter": "python",
   "pygments_lexer": "ipython3",
   "version": "3.13.7"
  }
 },
 "nbformat": 4,
 "nbformat_minor": 5
}
